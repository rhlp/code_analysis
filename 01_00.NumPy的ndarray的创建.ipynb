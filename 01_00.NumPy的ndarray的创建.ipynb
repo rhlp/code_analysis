{
 "cells": [
  {
   "cell_type": "code",
   "execution_count": 1,
   "metadata": {
    "collapsed": true
   },
   "outputs": [],
   "source": [
    "import numpy as np"
   ]
  },
  {
   "cell_type": "markdown",
   "metadata": {},
   "source": [
    "## 1.随机抽样创建"
   ]
  },
  {
   "cell_type": "code",
   "execution_count": 4,
   "metadata": {},
   "outputs": [
    {
     "name": "stdout",
     "output_type": "stream",
     "text": [
      "[[ 0.27469957  0.51699225  0.32582437  0.0059132 ]\n",
      " [ 0.89705594  0.41009286  0.44676197  0.24066251]\n",
      " [ 0.66191748  0.80144074  0.93958019  0.08140374]]\n"
     ]
    }
   ],
   "source": [
    "# 1, rand() 随机创建指定维度大小的多维浮点型数组，数字的区间在0.0~ 1.0之间\n",
    "arr1 = np.random.rand(3,4)\n",
    "print(arr1)"
   ]
  },
  {
   "cell_type": "code",
   "execution_count": 5,
   "metadata": {},
   "outputs": [
    {
     "name": "stdout",
     "output_type": "stream",
     "text": [
      "<class 'numpy.ndarray'>\n"
     ]
    }
   ],
   "source": [
    "print(type(arr1))"
   ]
  },
  {
   "cell_type": "code",
   "execution_count": 7,
   "metadata": {},
   "outputs": [
    {
     "name": "stdout",
     "output_type": "stream",
     "text": [
      "维度的个数: 2\n",
      "维度的大小: (3, 4)\n",
      "数据的类型: float64\n"
     ]
    }
   ],
   "source": [
    "print(\"维度的个数: {}\".format(arr1.ndim))\n",
    "print(\"维度的大小: {}\".format(arr1.shape))\n",
    "print(\"数据的类型: {}\".format(arr1.dtype))"
   ]
  },
  {
   "cell_type": "code",
   "execution_count": 17,
   "metadata": {},
   "outputs": [
    {
     "name": "stdout",
     "output_type": "stream",
     "text": [
      "[ 1.66535466  0.90049588 -0.23620632 ...,  1.52346097  1.32174035\n",
      "  1.00310211]\n"
     ]
    }
   ],
   "source": [
    "# randn() 创建一个符合正太分布的数组(自然界中的随机误差都符合正太分布)\n",
    "arr2 = np.random.randn(10000)\n",
    "print(arr2)"
   ]
  },
  {
   "cell_type": "code",
   "execution_count": 19,
   "metadata": {},
   "outputs": [
    {
     "data": {
      "image/png": "[encoded data removed]",
      "text/plain": [
       "<matplotlib.figure.Figure at 0x1f5bf5172b0>"
      ]
     },
     "metadata": {},
     "output_type": "display_data"
    }
   ],
   "source": [
    "# 导入Matplotlib的绘图结构pyplot\n",
    "import matplotlib.pyplot as plt\n",
    "# hist() 表示绘制直方图, bins表示直方个数，color表示颜色，alpha表示透明度（默认1不透明）\n",
    "plt.hist(arr2, bins = 100, color='g', alpha=0.3)\n",
    "# 显示上一次绘制的图形\n",
    "plt.show()"
   ]
  },
  {
   "cell_type": "code",
   "execution_count": 21,
   "metadata": {},
   "outputs": [
    {
     "name": "stdout",
     "output_type": "stream",
     "text": [
      "[[ 8.90529383  2.43227552  4.60601607  5.87361448]\n",
      " [-2.80511041  0.44121818  7.72248079  9.36244383]\n",
      " [ 3.69863041  2.6325655  -2.18240361  5.48573223]]\n"
     ]
    }
   ],
   "source": [
    "## 3.uniform() 表示创建指定区间的多维浮点型数组,第一个和第二个参数表示数字区间,第三个参数表示数组大小\n",
    "arr3 = np.random.uniform(-5, 10, (3, 4))\n",
    "print(arr3)"
   ]
  },
  {
   "cell_type": "code",
   "execution_count": 22,
   "metadata": {},
   "outputs": [
    {
     "name": "stdout",
     "output_type": "stream",
     "text": [
      "[[ 0 -2  9 -2]\n",
      " [ 7  1 -4  6]\n",
      " [ 3  3 -1  2]]\n"
     ]
    }
   ],
   "source": [
    "## 4.randint() 表示创建指定区间的多维整型数组，第一个和第二个参数表示数字区间，第三个参数表示数组大小\n",
    "arr4 = np.random.randint(-5, 10, (3, 4))\n",
    "print(arr4)"
   ]
  },
  {
   "cell_type": "code",
   "execution_count": null,
   "metadata": {
    "collapsed": true
   },
   "outputs": [],
   "source": []
  },
  {
   "cell_type": "markdown",
   "metadata": {},
   "source": [
    "## 2.ndarray的序列创建"
   ]
  },
  {
   "cell_type": "code",
   "execution_count": 24,
   "metadata": {},
   "outputs": [
    {
     "name": "stdout",
     "output_type": "stream",
     "text": [
      "[ 0  1  2  3  4  5  6  7  8  9 10 11 12 13 14 15 16 17 18 19]\n"
     ]
    }
   ],
   "source": [
    "# 1. np.array() 接收一个列表/嵌套列表, 或者range()对象, 并转换ndarray对象\n",
    "list_1 = [10, 20, 30, 40]\n",
    "arr5 = np.array(range(20))\n",
    "print(arr5)"
   ]
  },
  {
   "cell_type": "code",
   "execution_count": 25,
   "metadata": {},
   "outputs": [
    {
     "name": "stdout",
     "output_type": "stream",
     "text": [
      "[10 20 30 40 50 60 70 80 90]\n"
     ]
    }
   ],
   "source": [
    "# 2. np.arange() : 等同于 np.array(range())\n",
    "arr6 = np.arange(10, 100, 10)\n",
    "print(arr6)"
   ]
  },
  {
   "cell_type": "code",
   "execution_count": 26,
   "metadata": {},
   "outputs": [
    {
     "name": "stdout",
     "output_type": "stream",
     "text": [
      "[10, 20, 30, 40, 50, 60, 70, 80, 90]\n"
     ]
    }
   ],
   "source": [
    "# 3. tolist() 将ndarray在转换为列表\n",
    "list_2 = arr6.tolist()\n",
    "print(list_2)"
   ]
  },
  {
   "cell_type": "code",
   "execution_count": 27,
   "metadata": {},
   "outputs": [
    {
     "name": "stdout",
     "output_type": "stream",
     "text": [
      "[[100, 200, 300], [500, 600, 700]]\n"
     ]
    }
   ],
   "source": [
    "list_3 = [[10, 20, 30],[50, 60, 70]]\n",
    "arr7 = np.array(list_3)\n",
    "list_4 = (arr7 * 10).tolist()\n",
    "print(list_4)"
   ]
  },
  {
   "cell_type": "code",
   "execution_count": null,
   "metadata": {
    "collapsed": true
   },
   "outputs": [],
   "source": []
  },
  {
   "cell_type": "markdown",
   "metadata": {},
   "source": [
    "## 3.ndarray的初始化创建"
   ]
  },
  {
   "cell_type": "code",
   "execution_count": 28,
   "metadata": {},
   "outputs": [
    {
     "name": "stdout",
     "output_type": "stream",
     "text": [
      "[[ 0.  0.  0.  0.  0.  0.  0.  0.  0.  0.]\n",
      " [ 0.  0.  0.  0.  0.  0.  0.  0.  0.  0.]\n",
      " [ 0.  0.  0.  0.  0.  0.  0.  0.  0.  0.]\n",
      " [ 0.  0.  0.  0.  0.  0.  0.  0.  0.  0.]\n",
      " [ 0.  0.  0.  0.  0.  0.  0.  0.  0.  0.]\n",
      " [ 0.  0.  0.  0.  0.  0.  0.  0.  0.  0.]\n",
      " [ 0.  0.  0.  0.  0.  0.  0.  0.  0.  0.]\n",
      " [ 0.  0.  0.  0.  0.  0.  0.  0.  0.  0.]\n",
      " [ 0.  0.  0.  0.  0.  0.  0.  0.  0.  0.]\n",
      " [ 0.  0.  0.  0.  0.  0.  0.  0.  0.  0.]]\n"
     ]
    }
   ],
   "source": [
    "# 1. zeros() 表示创建一个全部为0. 的多维浮点型数组, 接收一个元组, 表示维度大小\n",
    "arr8 =  np.zeros((10, 10))\n",
    "print(arr8)"
   ]
  },
  {
   "cell_type": "code",
   "execution_count": 29,
   "metadata": {},
   "outputs": [
    {
     "name": "stdout",
     "output_type": "stream",
     "text": [
      "[[ 1.  1.  1.  1.  1.  1.  1.  1.  1.  1.]\n",
      " [ 1.  1.  1.  1.  1.  1.  1.  1.  1.  1.]\n",
      " [ 1.  1.  1.  1.  1.  1.  1.  1.  1.  1.]\n",
      " [ 1.  1.  1.  1.  1.  1.  1.  1.  1.  1.]\n",
      " [ 1.  1.  1.  1.  1.  1.  1.  1.  1.  1.]\n",
      " [ 1.  1.  1.  1.  1.  1.  1.  1.  1.  1.]\n",
      " [ 1.  1.  1.  1.  1.  1.  1.  1.  1.  1.]\n",
      " [ 1.  1.  1.  1.  1.  1.  1.  1.  1.  1.]\n",
      " [ 1.  1.  1.  1.  1.  1.  1.  1.  1.  1.]\n",
      " [ 1.  1.  1.  1.  1.  1.  1.  1.  1.  1.]]\n"
     ]
    }
   ],
   "source": [
    "# 2. ones() 表示创建一个全部为1. 的多维浮点型数组,接收一个元组，表示维度大小\n",
    "arr9 = np.ones((10, 10))\n",
    "print(arr9)"
   ]
  },
  {
   "cell_type": "code",
   "execution_count": null,
   "metadata": {
    "collapsed": true
   },
   "outputs": [],
   "source": []
  },
  {
   "cell_type": "markdown",
   "metadata": {},
   "source": [
    "## 4.reshape() 修改数组的维度"
   ]
  },
  {
   "cell_type": "code",
   "execution_count": 30,
   "metadata": {},
   "outputs": [
    {
     "name": "stdout",
     "output_type": "stream",
     "text": [
      "[[ 0  6  7 -5]\n",
      " [ 5  5  8 -4]\n",
      " [-3 -1 -4  2]]\n"
     ]
    }
   ],
   "source": [
    "arr10 = np.random.randint(-5, 10, (3, 4))\n",
    "print(arr10)"
   ]
  },
  {
   "cell_type": "code",
   "execution_count": 31,
   "metadata": {},
   "outputs": [
    {
     "name": "stdout",
     "output_type": "stream",
     "text": [
      "[[ 0  6  7 -5  5  5]\n",
      " [ 8 -4 -3 -1 -4  2]]\n"
     ]
    }
   ],
   "source": [
    "# reshape() 修改数组的维度, 保证元素个数一致\n",
    "print(arr10.reshape(2, 6))"
   ]
  },
  {
   "cell_type": "code",
   "execution_count": null,
   "metadata": {
    "collapsed": true
   },
   "outputs": [],
   "source": []
  },
  {
   "cell_type": "markdown",
   "metadata": {},
   "source": [
    "## 5.transpose() 维度转置"
   ]
  },
  {
   "cell_type": "markdown",
   "metadata": {},
   "source": [
    "和reshape()区别，transpose只能修改维度的大小，不能修改维度个数"
   ]
  },
  {
   "cell_type": "code",
   "execution_count": 33,
   "metadata": {},
   "outputs": [
    {
     "name": "stdout",
     "output_type": "stream",
     "text": [
      "[[ 0  6  7 -5]\n",
      " [ 5  5  8 -4]\n",
      " [-3 -1 -4  2]]\n"
     ]
    }
   ],
   "source": [
    "print(arr10)"
   ]
  },
  {
   "cell_type": "code",
   "execution_count": 34,
   "metadata": {},
   "outputs": [
    {
     "name": "stdout",
     "output_type": "stream",
     "text": [
      "[[ 0  5 -3]\n",
      " [ 6  5 -1]\n",
      " [ 7  8 -4]\n",
      " [-5 -4  2]]\n"
     ]
    }
   ],
   "source": [
    "# 如果是二维数组, 默认将 行和列 互相转置 3 *4 -> 4* 3\n",
    "print(arr10.transpose())"
   ]
  },
  {
   "cell_type": "code",
   "execution_count": 39,
   "metadata": {},
   "outputs": [
    {
     "name": "stdout",
     "output_type": "stream",
     "text": [
      "[[[-4 -5  5  5 -5]\n",
      "  [ 7 -3  5 -1  9]\n",
      "  [ 8  6 -2  6 -1]\n",
      "  [-3 -5  2 -5 -3]]\n",
      "\n",
      " [[ 0  1  2 -2  0]\n",
      "  [ 3  1  0  4  9]\n",
      "  [ 9  2  1  3  9]\n",
      "  [ 0  1 -4 -2  4]]\n",
      "\n",
      " [[ 6 -2  3 -1  4]\n",
      "  [ 8 -3 -3  6  9]\n",
      "  [ 7  7 -1  2  6]\n",
      "  [-1 -1  8 -3  6]]]\n"
     ]
    }
   ],
   "source": [
    "arr11 = np.random.randint(-5, 10, (3, 4, 5))\n",
    "print(arr11)"
   ]
  },
  {
   "cell_type": "code",
   "execution_count": 41,
   "metadata": {},
   "outputs": [
    {
     "name": "stdout",
     "output_type": "stream",
     "text": [
      "[[[-4 -5  5  5 -5]\n",
      "  [ 0  1  2 -2  0]\n",
      "  [ 6 -2  3 -1  4]]\n",
      "\n",
      " [[ 7 -3  5 -1  9]\n",
      "  [ 3  1  0  4  9]\n",
      "  [ 8 -3 -3  6  9]]\n",
      "\n",
      " [[ 8  6 -2  6 -1]\n",
      "  [ 9  2  1  3  9]\n",
      "  [ 7  7 -1  2  6]]\n",
      "\n",
      " [[-3 -5  2 -5 -3]\n",
      "  [ 0  1 -4 -2  4]\n",
      "  [-1 -1  8 -3  6]]]\n"
     ]
    }
   ],
   "source": [
    "# 如果是高维数组, 默认将维度大小转置 (3, 4, 5) -> (5, 4, 3)\n",
    "#print(arr11.transpose())\n",
    "\n",
    "# 添加参数可以指定维度的转置，参数为原数组维度大小的下标值  （3， 4， 5）下标对应0，1，2\n",
    "print(arr11.transpose(1, 0, 2))"
   ]
  },
  {
   "cell_type": "code",
   "execution_count": null,
   "metadata": {
    "collapsed": true
   },
   "outputs": [],
   "source": []
  },
  {
   "cell_type": "markdown",
   "metadata": {},
   "source": [
    "## 6.shuffle() 随机打乱数组序列(类似于洗牌)"
   ]
  },
  {
   "cell_type": "code",
   "execution_count": 44,
   "metadata": {},
   "outputs": [
    {
     "name": "stdout",
     "output_type": "stream",
     "text": [
      "[ 0  1  2  3  4  5  6  7  8  9 10 11 12 13 14 15 16 17 18 19]\n"
     ]
    }
   ],
   "source": [
    "print(arr5)"
   ]
  },
  {
   "cell_type": "code",
   "execution_count": 46,
   "metadata": {},
   "outputs": [
    {
     "name": "stdout",
     "output_type": "stream",
     "text": [
      "[11 14  1  6 13 19  4  3 10 12  2  9  7  5  0 15 18 17 16  8]\n"
     ]
    }
   ],
   "source": [
    "# 凡是可以通过print()打印的方法，都是处理原数组的副本，原数组不变。\n",
    "# 将原数组的序列随机打乱，注意在原数组上进行修改。\n",
    "np.random.shuffle(arr5)\n",
    "print(arr5)"
   ]
  },
  {
   "cell_type": "code",
   "execution_count": null,
   "metadata": {
    "collapsed": true
   },
   "outputs": [],
   "source": []
  }
 ],
 "metadata": {
  "kernelspec": {
   "display_name": "Python 3",
   "language": "python",
   "name": "python3"
  },
  "language_info": {
   "codemirror_mode": {
    "name": "ipython",
    "version": 3
   },
   "file_extension": ".py",
   "mimetype": "text/x-python",
   "name": "python",
   "nbconvert_exporter": "python",
   "pygments_lexer": "ipython3",
   "version": "3.6.3"
  }
 },
 "nbformat": 4,
 "nbformat_minor": 2
}
