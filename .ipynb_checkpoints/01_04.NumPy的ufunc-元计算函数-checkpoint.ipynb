{
 "cells": [
  {
   "cell_type": "code",
   "execution_count": 1,
   "metadata": {
    "collapsed": true
   },
   "outputs": [],
   "source": [
    "import numpy as np"
   ]
  },
  {
   "cell_type": "markdown",
   "metadata": {},
   "source": [
    "## 1.一元元素计算函数"
   ]
  },
  {
   "cell_type": "code",
   "execution_count": 3,
   "metadata": {},
   "outputs": [
    {
     "name": "stdout",
     "output_type": "stream",
     "text": [
      "[[ 2.70712497  1.41781092  0.1915691   7.46884948]\n",
      " [-3.17572741  1.06769273 -3.86985887  4.2969882 ]\n",
      " [ 0.6100757  -4.7861959   2.17143444  5.56076463]]\n"
     ]
    }
   ],
   "source": [
    "arr1 = np.random.uniform(-5, 10, (3, 4))\n",
    "print(arr1)"
   ]
  },
  {
   "cell_type": "code",
   "execution_count": 5,
   "metadata": {},
   "outputs": [
    {
     "name": "stdout",
     "output_type": "stream",
     "text": [
      "[[ 3.  2.  1.  8.]\n",
      " [-3.  2. -3.  5.]\n",
      " [ 1. -4.  3.  6.]]\n"
     ]
    }
   ],
   "source": [
    "## 1. ceil() 求元素向上最接近的整数\n",
    "print(np.ceil(arr1))"
   ]
  },
  {
   "cell_type": "code",
   "execution_count": 6,
   "metadata": {},
   "outputs": [
    {
     "name": "stdout",
     "output_type": "stream",
     "text": [
      "[[ 2.  1.  0.  7.]\n",
      " [-4.  1. -4.  4.]\n",
      " [ 0. -5.  2.  5.]]\n"
     ]
    }
   ],
   "source": [
    "## 2. 求元素向下最接近的整数\n",
    "print(np.floor(arr1))"
   ]
  },
  {
   "cell_type": "code",
   "execution_count": 7,
   "metadata": {},
   "outputs": [
    {
     "name": "stdout",
     "output_type": "stream",
     "text": [
      "[[ 3.  1.  0.  7.]\n",
      " [-3.  1. -4.  4.]\n",
      " [ 1. -5.  2.  6.]]\n"
     ]
    }
   ],
   "source": [
    "## 3. rint() 求四舍五入\n",
    "print(np.rint(arr1))"
   ]
  },
  {
   "cell_type": "code",
   "execution_count": 8,
   "metadata": {},
   "outputs": [
    {
     "name": "stdout",
     "output_type": "stream",
     "text": [
      "[[ 2.70712497  1.41781092  0.1915691   7.46884948]\n",
      " [ 3.17572741  1.06769273  3.86985887  4.2969882 ]\n",
      " [ 0.6100757   4.7861959   2.17143444  5.56076463]]\n"
     ]
    }
   ],
   "source": [
    "## 4. abs() 求绝对值\n",
    "print(np.abs(arr1))"
   ]
  },
  {
   "cell_type": "code",
   "execution_count": 9,
   "metadata": {},
   "outputs": [
    {
     "name": "stdout",
     "output_type": "stream",
     "text": [
      "[[-2.70712497 -1.41781092 -0.1915691  -7.46884948]\n",
      " [ 3.17572741 -1.06769273  3.86985887 -4.2969882 ]\n",
      " [-0.6100757   4.7861959  -2.17143444 -5.56076463]]\n"
     ]
    }
   ],
   "source": [
    "## 5. negative() 元素取反\n",
    "print(np.negative(arr1))"
   ]
  },
  {
   "cell_type": "code",
   "execution_count": 10,
   "metadata": {},
   "outputs": [
    {
     "name": "stdout",
     "output_type": "stream",
     "text": [
      "[[  7.32852561e+00   2.01018782e+00   3.66987212e-02   5.57837125e+01]\n",
      " [  1.00852446e+01   1.13996777e+00   1.49758077e+01   1.84641076e+01]\n",
      " [  3.72192354e-01   2.29076712e+01   4.71512753e+00   3.09221032e+01]]\n"
     ]
    }
   ],
   "source": [
    "## 6. square()求元素的平方\n",
    "print(np.square(arr1))"
   ]
  },
  {
   "cell_type": "code",
   "execution_count": 11,
   "metadata": {},
   "outputs": [
    {
     "name": "stdout",
     "output_type": "stream",
     "text": [
      "[[ 1.6453343   1.19071866  0.43768608  2.73291959]\n",
      " [        nan  1.03329218         nan  2.0729178 ]\n",
      " [ 0.78107343         nan  1.47357879  2.35812736]]\n"
     ]
    },
    {
     "name": "stderr",
     "output_type": "stream",
     "text": [
      "C:\\Python\\Anaconda3\\lib\\site-packages\\ipykernel_launcher.py:2: RuntimeWarning: invalid value encountered in sqrt\n",
      "  \n"
     ]
    }
   ],
   "source": [
    "## 7. sqrt()求元素的平方根\n",
    "print(np.sqrt(arr1))"
   ]
  },
  {
   "cell_type": "code",
   "execution_count": 12,
   "metadata": {},
   "outputs": [
    {
     "name": "stdout",
     "output_type": "stream",
     "text": [
      "[[False False False False]\n",
      " [False False False False]\n",
      " [False False False False]]\n"
     ]
    }
   ],
   "source": [
    "## 8. isnan() 判断是否是NaN, 返回bool类型数组, 如果元素是nan, 返回True, 否则返回False\n",
    "print(np.isnan(arr1))"
   ]
  },
  {
   "cell_type": "code",
   "execution_count": 13,
   "metadata": {},
   "outputs": [
    {
     "name": "stdout",
     "output_type": "stream",
     "text": [
      "[-3.17572741 -3.86985887 -4.7861959 ]\n"
     ]
    },
    {
     "name": "stderr",
     "output_type": "stream",
     "text": [
      "C:\\Python\\Anaconda3\\lib\\site-packages\\ipykernel_launcher.py:3: RuntimeWarning: invalid value encountered in sqrt\n",
      "  This is separate from the ipykernel package so we can avoid doing imports until\n"
     ]
    }
   ],
   "source": [
    "## 凡是bool类型的数据, 都可以用条件索引\n",
    "## 得出数组里不能求平方根的数字\n",
    "print(arr1[np.isnan(np.sqrt(arr1))])"
   ]
  },
  {
   "cell_type": "code",
   "execution_count": null,
   "metadata": {
    "collapsed": true
   },
   "outputs": [],
   "source": [
    "## 9. sign()判断元素的正负, 正数返回1, 负数返回-1, 0返回0"
   ]
  },
  {
   "cell_type": "code",
   "execution_count": 14,
   "metadata": {},
   "outputs": [
    {
     "name": "stdout",
     "output_type": "stream",
     "text": [
      "[[ 1.  1.  1.  1.]\n",
      " [-1.  1. -1.  1.]\n",
      " [ 1. -1.  1.  1.]]\n"
     ]
    }
   ],
   "source": [
    "print(np.sign(arr1))"
   ]
  },
  {
   "cell_type": "code",
   "execution_count": 15,
   "metadata": {
    "collapsed": true
   },
   "outputs": [],
   "source": [
    "## 10.modf() 将数组拆分为小数部分和整数部分两个数组(整个结果是二维数组)"
   ]
  },
  {
   "cell_type": "code",
   "execution_count": 17,
   "metadata": {},
   "outputs": [
    {
     "name": "stdout",
     "output_type": "stream",
     "text": [
      "[[ 0.70712497  0.41781092  0.1915691   0.46884948]\n",
      " [-0.17572741  0.06769273 -0.86985887  0.2969882 ]\n",
      " [ 0.6100757  -0.7861959   0.17143444  0.56076463]]\n",
      "[[ 2.  1.  0.  7.]\n",
      " [-3.  1. -3.  4.]\n",
      " [ 0. -4.  2.  5.]]\n"
     ]
    }
   ],
   "source": [
    "print(np.modf(arr1)[0])\n",
    "print(np.modf(arr1)[1])"
   ]
  },
  {
   "cell_type": "markdown",
   "metadata": {},
   "source": [
    "## 2.二元元素计算函数"
   ]
  },
  {
   "cell_type": "code",
   "execution_count": 18,
   "metadata": {},
   "outputs": [
    {
     "name": "stdout",
     "output_type": "stream",
     "text": [
      "[0 1 2 3 4 5 6 7 8 9]\n",
      "[10 11 12 13 14 15 16 17 18 19]\n"
     ]
    }
   ],
   "source": [
    "arr2 = np.arange(10)\n",
    "arr3 = np.arange(10, 20)\n",
    "print(arr2)\n",
    "print(arr3)"
   ]
  },
  {
   "cell_type": "code",
   "execution_count": 20,
   "metadata": {},
   "outputs": [
    {
     "name": "stdout",
     "output_type": "stream",
     "text": [
      "[10 12 14 16 18 20 22 24 26 28]\n"
     ]
    }
   ],
   "source": [
    "## 1. add() 将两个数组的数值按下标相加, 返回一个新的数组\n",
    "print(np.add(arr2, arr3))"
   ]
  },
  {
   "cell_type": "code",
   "execution_count": 21,
   "metadata": {},
   "outputs": [
    {
     "name": "stdout",
     "output_type": "stream",
     "text": [
      "[10 10 10 10 10 10 10 10 10 10]\n"
     ]
    }
   ],
   "source": [
    "## 2. subtract() 将两个数组的数值按下标相减,返回一个新的数组\n",
    "print(np.subtract(arr3, arr2))"
   ]
  },
  {
   "cell_type": "code",
   "execution_count": 22,
   "metadata": {},
   "outputs": [
    {
     "name": "stdout",
     "output_type": "stream",
     "text": [
      "[  0  11  24  39  56  75  96 119 144 171]\n"
     ]
    }
   ],
   "source": [
    "## 3. multiply() 将两个数组的数值按下标相乘, 返回一个新的数组\n",
    "print(np.multiply(arr2, arr3))"
   ]
  },
  {
   "cell_type": "code",
   "execution_count": 23,
   "metadata": {},
   "outputs": [
    {
     "name": "stdout",
     "output_type": "stream",
     "text": [
      "[ 0.          0.09090909  0.16666667  0.23076923  0.28571429  0.33333333\n",
      "  0.375       0.41176471  0.44444444  0.47368421]\n"
     ]
    }
   ],
   "source": [
    "## 4. divide() 将两个数组的数值按下标相除, 返回一个新的数组\n",
    "print(np.divide(arr2, arr3))"
   ]
  },
  {
   "cell_type": "code",
   "execution_count": 26,
   "metadata": {},
   "outputs": [
    {
     "name": "stdout",
     "output_type": "stream",
     "text": [
      "[ 0 11  6  4  3  3  2  2  2  2]\n"
     ]
    },
    {
     "name": "stderr",
     "output_type": "stream",
     "text": [
      "C:\\Python\\Anaconda3\\lib\\site-packages\\ipykernel_launcher.py:2: RuntimeWarning: divide by zero encountered in floor_divide\n",
      "  \n"
     ]
    }
   ],
   "source": [
    "## 5. floor_divide() 整除 舍弃余数, 保留整数商\n",
    "print(np.floor_divide(arr3, arr2))"
   ]
  },
  {
   "cell_type": "code",
   "execution_count": 27,
   "metadata": {},
   "outputs": [
    {
     "name": "stdout",
     "output_type": "stream",
     "text": [
      "[0 1 2 3 4 5 6 7 8 9]\n"
     ]
    }
   ],
   "source": [
    "## 6. mod() 求余数 arr2 % arr3\n",
    "print(np.mod(arr2, arr3))"
   ]
  },
  {
   "cell_type": "code",
   "execution_count": 28,
   "metadata": {},
   "outputs": [
    {
     "name": "stdout",
     "output_type": "stream",
     "text": [
      "[          0           1        4096     1594323   268435456   452807053\n",
      "  -683606016 -2094633337           0  -400556711]\n"
     ]
    }
   ],
   "source": [
    "## 7. power() 求元素的n次方， arr2 ** arr3\n",
    "print(np.power(arr2, arr3))"
   ]
  },
  {
   "cell_type": "markdown",
   "metadata": {},
   "source": [
    "## 3.三元元素计算函数"
   ]
  },
  {
   "cell_type": "code",
   "execution_count": 29,
   "metadata": {},
   "outputs": [
    {
     "name": "stdout",
     "output_type": "stream",
     "text": [
      "[[ 2.70712497  1.41781092  0.1915691   7.46884948]\n",
      " [-3.17572741  1.06769273 -3.86985887  4.2969882 ]\n",
      " [ 0.6100757  -4.7861959   2.17143444  5.56076463]]\n"
     ]
    }
   ],
   "source": [
    "print(arr1)"
   ]
  },
  {
   "cell_type": "code",
   "execution_count": 32,
   "metadata": {},
   "outputs": [
    {
     "name": "stdout",
     "output_type": "stream",
     "text": [
      "[[ 0.          0.          0.          0.        ]\n",
      " [-3.17572741  0.         -3.86985887  0.        ]\n",
      " [ 0.         -4.7861959   0.          0.        ]]\n"
     ]
    }
   ],
   "source": [
    "# 迭代判断数组的每个元素, 返回的也是当前正在判断的那个元素, 而不是返回整个数组\n",
    "arr4 = np.where(arr1 < 0, arr1, 0)\n",
    "print(arr4)"
   ]
  },
  {
   "cell_type": "code",
   "execution_count": null,
   "metadata": {
    "collapsed": true
   },
   "outputs": [],
   "source": []
  },
  {
   "cell_type": "code",
   "execution_count": 35,
   "metadata": {
    "collapsed": true
   },
   "outputs": [],
   "source": [
    "# 创建两个数组\n",
    "arr_1 = np.array([16, 7, 8, 2, 8, 3, 4, -5, 4, 27])\n",
    "arr_2 = np.array([23, 5, 3, 7, 2, 1, 2, -2, 7, 14])\n",
    "\n",
    "# ndarray 转换为字符串\n",
    "list_1 = arr_1.tolist()\n",
    "list_2 = arr_2.tolist()"
   ]
  },
  {
   "cell_type": "code",
   "execution_count": 36,
   "metadata": {},
   "outputs": [
    {
     "name": "stdout",
     "output_type": "stream",
     "text": [
      "[16, 7, 8, 2, 8, 3, 4, -5, 4, 27]\n",
      "[23, 5, 3, 7, 2, 1, 2, -2, 7, 14]\n"
     ]
    }
   ],
   "source": [
    "print(list_1)\n",
    "print(list_2)"
   ]
  },
  {
   "cell_type": "code",
   "execution_count": 37,
   "metadata": {},
   "outputs": [
    {
     "name": "stdout",
     "output_type": "stream",
     "text": [
      "[23, 7, 8, 7, 8, 3, 4, -2, 7, 27]\n"
     ]
    }
   ],
   "source": [
    "# Python的列表写法\n",
    "list_3 = [ x if x > y else y for x, y in zip(list_1, list_2)]\n",
    "print(list_3)"
   ]
  },
  {
   "cell_type": "code",
   "execution_count": 39,
   "metadata": {},
   "outputs": [
    {
     "name": "stdout",
     "output_type": "stream",
     "text": [
      "[23  7  8  7  8  3  4 -2  7 27]\n"
     ]
    }
   ],
   "source": [
    "# ndarray的写法\n",
    "arr_3 = np.where(arr_1 > arr_2, arr_1, arr_2)\n",
    "print(arr_3)"
   ]
  },
  {
   "cell_type": "code",
   "execution_count": 40,
   "metadata": {},
   "outputs": [
    {
     "name": "stdout",
     "output_type": "stream",
     "text": [
      "[[ 2.70712497  1.41781092  0.1915691   7.46884948]\n",
      " [-3.17572741  1.06769273 -3.86985887  4.2969882 ]\n",
      " [ 0.6100757  -4.7861959   2.17143444  5.56076463]]\n"
     ]
    },
    {
     "name": "stderr",
     "output_type": "stream",
     "text": [
      "C:\\Python\\Anaconda3\\lib\\site-packages\\ipykernel_launcher.py:1: RuntimeWarning: invalid value encountered in sqrt\n",
      "  \"\"\"Entry point for launching an IPython kernel.\n"
     ]
    }
   ],
   "source": [
    "arr_sqrt = np.sqrt(arr1)\n",
    "print(arr1)"
   ]
  },
  {
   "cell_type": "code",
   "execution_count": 41,
   "metadata": {},
   "outputs": [
    {
     "data": {
      "text/plain": [
       "array([[False, False, False, False],\n",
       "       [False, False, False, False],\n",
       "       [False, False, False, False]], dtype=bool)"
      ]
     },
     "execution_count": 41,
     "metadata": {},
     "output_type": "execute_result"
    }
   ],
   "source": [
    "np.isnan(arr1)"
   ]
  },
  {
   "cell_type": "code",
   "execution_count": null,
   "metadata": {
    "collapsed": true
   },
   "outputs": [],
   "source": []
  },
  {
   "cell_type": "code",
   "execution_count": 42,
   "metadata": {
    "collapsed": true
   },
   "outputs": [],
   "source": [
    "# 课堂小练习: 现给出 np.random.uniform(10, 40, (3, 4)) 数组，找出所有四舍五入后大于20且小于30的数字，修改为100，其他数字不变，并组成新的数组"
   ]
  },
  {
   "cell_type": "code",
   "execution_count": 44,
   "metadata": {},
   "outputs": [
    {
     "name": "stdout",
     "output_type": "stream",
     "text": [
      "[[ 31.48258957  16.6622578   35.00785286  13.83299064]\n",
      " [ 27.56009589  26.44049241  22.93098634  30.76730106]\n",
      " [ 33.28283127  37.00791716  31.33058935  11.77957355]]\n"
     ]
    }
   ],
   "source": [
    "float_arr = np.random.uniform(10, 40, (3, 4))\n",
    "print(float_arr)"
   ]
  },
  {
   "cell_type": "code",
   "execution_count": 51,
   "metadata": {},
   "outputs": [
    {
     "data": {
      "text/plain": [
       "array([[  31.48258957,   16.6622578 ,   35.00785286,   13.83299064],\n",
       "       [ 100.        ,  100.        ,  100.        ,   30.76730106],\n",
       "       [  33.28283127,   37.00791716,   31.33058935,   11.77957355]])"
      ]
     },
     "execution_count": 51,
     "metadata": {},
     "output_type": "execute_result"
    }
   ],
   "source": [
    "np.where((np.rint(float_arr) > 20) & (np.rint(float_arr) < 30), 100, float_arr)"
   ]
  },
  {
   "cell_type": "code",
   "execution_count": null,
   "metadata": {
    "collapsed": true
   },
   "outputs": [],
   "source": []
  }
 ],
 "metadata": {
  "kernelspec": {
   "display_name": "Python 3",
   "language": "python",
   "name": "python3"
  },
  "language_info": {
   "codemirror_mode": {
    "name": "ipython",
    "version": 3
   },
   "file_extension": ".py",
   "mimetype": "text/x-python",
   "name": "python",
   "nbconvert_exporter": "python",
   "pygments_lexer": "ipython3",
   "version": "3.6.3"
  }
 },
 "nbformat": 4,
 "nbformat_minor": 2
}
