{
 "cells": [
  {
   "cell_type": "code",
   "execution_count": 1,
   "metadata": {
    "collapsed": true
   },
   "outputs": [],
   "source": [
    "import numpy as np"
   ]
  },
  {
   "cell_type": "markdown",
   "metadata": {},
   "source": [
    "## 1.数组和数组的运算"
   ]
  },
  {
   "cell_type": "code",
   "execution_count": 5,
   "metadata": {},
   "outputs": [
    {
     "name": "stdout",
     "output_type": "stream",
     "text": [
      "[[0 1 2 3 4]\n",
      " [5 6 7 8 9]]\n",
      "-------\n",
      "[[10 11 12 13 14]\n",
      " [15 16 17 18 19]]\n",
      "-------\n",
      "[0 1 2 3 4]\n"
     ]
    }
   ],
   "source": [
    "arr1 = np.arange(10).reshape(2, 5)\n",
    "arr2 = np.arange(10, 20).reshape(2, 5)\n",
    "arr3 = np.arange(5)\n",
    "print(arr1)\n",
    "print(\"-------\")\n",
    "print(arr2)\n",
    "print(\"-------\")\n",
    "print(arr3)"
   ]
  },
  {
   "cell_type": "code",
   "execution_count": 7,
   "metadata": {},
   "outputs": [
    {
     "name": "stdout",
     "output_type": "stream",
     "text": [
      "[[10 12 14 16 18]\n",
      " [20 22 24 26 28]]\n"
     ]
    }
   ],
   "source": [
    "# 1. 多维数组和多维数组的运算\n",
    "# 两个ndarray进行算术运算, 相当于按下标对应依次运算, 并返回一个新的数组\n",
    "# 矩阵运算必须保证数组的维度大小一致\n",
    "print(arr1 + arr2)"
   ]
  },
  {
   "cell_type": "code",
   "execution_count": 8,
   "metadata": {},
   "outputs": [
    {
     "name": "stdout",
     "output_type": "stream",
     "text": [
      "[[10 12 14 16 18]\n",
      " [15 17 19 21 23]]\n"
     ]
    }
   ],
   "source": [
    "# 多维数组和一维数组运算,一维数组的维度必须和多维数组的尾部维度一致\n",
    "# 将多维数组拆分成多个一维数组,在依次和一维数组做运算, 并将结果合并为一个多维数组\n",
    "print(arr2 + arr3)"
   ]
  },
  {
   "cell_type": "markdown",
   "metadata": {},
   "source": [
    "## 2.数组和数值之间的运算(广播运算)"
   ]
  },
  {
   "cell_type": "code",
   "execution_count": 9,
   "metadata": {},
   "outputs": [
    {
     "name": "stdout",
     "output_type": "stream",
     "text": [
      "[[0 1 2 3 4]\n",
      " [5 6 7 8 9]]\n"
     ]
    }
   ],
   "source": [
    "print(arr1)"
   ]
  },
  {
   "cell_type": "code",
   "execution_count": 10,
   "metadata": {},
   "outputs": [
    {
     "name": "stdout",
     "output_type": "stream",
     "text": [
      "[[ 0 10 20 30 40]\n",
      " [50 60 70 80 90]]\n"
     ]
    }
   ],
   "source": [
    "# 将数组的每个元素依次和数值进行运算, 并返回新的数组\n",
    "print(arr1 * 10)"
   ]
  },
  {
   "cell_type": "code",
   "execution_count": null,
   "metadata": {
    "collapsed": true
   },
   "outputs": [],
   "source": []
  },
  {
   "cell_type": "code",
   "execution_count": 11,
   "metadata": {},
   "outputs": [
    {
     "name": "stdout",
     "output_type": "stream",
     "text": [
      "[[ 0.   0.1  0.2  0.3  0.4]\n",
      " [ 0.5  0.6  0.7  0.8  0.9]]\n"
     ]
    }
   ],
   "source": [
    "print(arr1 / 10)"
   ]
  },
  {
   "cell_type": "code",
   "execution_count": null,
   "metadata": {
    "collapsed": true
   },
   "outputs": [],
   "source": []
  }
 ],
 "metadata": {
  "kernelspec": {
   "display_name": "Python 3",
   "language": "python",
   "name": "python3"
  },
  "language_info": {
   "codemirror_mode": {
    "name": "ipython",
    "version": 3
   },
   "file_extension": ".py",
   "mimetype": "text/x-python",
   "name": "python",
   "nbconvert_exporter": "python",
   "pygments_lexer": "ipython3",
   "version": "3.6.3"
  }
 },
 "nbformat": 4,
 "nbformat_minor": 2
}
